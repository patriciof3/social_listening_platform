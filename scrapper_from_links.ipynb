{
 "cells": [
  {
   "cell_type": "code",
   "execution_count": 1,
   "metadata": {},
   "outputs": [],
   "source": [
    "import pandas as pd\n",
    "from bs4 import BeautifulSoup\n",
    "import requests\n",
    "import re"
   ]
  },
  {
   "cell_type": "code",
   "execution_count": 2,
   "metadata": {},
   "outputs": [
    {
     "name": "stdout",
     "output_type": "stream",
     "text": [
      "161\n",
      "media\n",
      "rosario12      75\n",
      "lacapital      35\n",
      "ellitoral      30\n",
      "elciudadano    21\n",
      "Name: count, dtype: int64\n"
     ]
    }
   ],
   "source": [
    "df = pd.read_excel(\"data/santafe_2008-2011.xlsx\")\n",
    "print(len(df))\n",
    "print(df.media.value_counts())"
   ]
  },
  {
   "cell_type": "code",
   "execution_count": 34,
   "metadata": {},
   "outputs": [],
   "source": [
    "def content_extract(url):\n",
    "    try:\n",
    "        response = requests.get(url)\n",
    "        response.raise_for_status()  # Raise an HTTPError for bad responses\n",
    "\n",
    "        # Decode the content as utf-8 explicitly\n",
    "        html_content = response.content.decode('utf-8', errors='ignore')\n",
    "        soup = BeautifulSoup(html_content, 'html.parser')\n",
    "        content = soup.findAll('p')\n",
    "        content_list = [p.get_text(strip=True) for p in content]\n",
    "        \n",
    "        # Apply rules based on text in the URL\n",
    "        if 'lacapital.com' in url:\n",
    "            content_list = content_list[1:-1]  # Discard the first and last\n",
    "        elif 'pagina12.com' in url:\n",
    "            content_list = content_list[3:-2]  # Discard the first 3 and last 2\n",
    "        elif 'elciudadanoweb.com' in url:\n",
    "            content_list = content_list[:-2]  # Discard the last 2\n",
    "        \n",
    "        # Return the processed list or a default message\n",
    "        return content_list if content_list else [\"No content found\"]\n",
    "    except requests.exceptions.RequestException as e:\n",
    "        return [f\"Request error: {e}\"]\n",
    "    except Exception as e:\n",
    "        return [f\"Error: {e}\"]\n",
    "\n",
    "# Apply the function to the 'links' column and create a new column 'content'\n",
    "df['content'] = df['link'].apply(content_extract)\n"
   ]
  },
  {
   "cell_type": "code",
   "execution_count": 37,
   "metadata": {},
   "outputs": [],
   "source": [
    "df.to_excel(\"data/test.xlsx\")"
   ]
  },
  {
   "cell_type": "code",
   "execution_count": 38,
   "metadata": {},
   "outputs": [],
   "source": [
    "df_short = df.copy()\n",
    "\n",
    "# Function to filter out short strings from the lists\n",
    "def filter_short_strings(content_list):\n",
    "    return [text for text in content_list if len(text) >= 100]\n",
    "\n",
    "# Apply the function to the \"content\" column\n",
    "df_short['content'] = df_short['content'].apply(filter_short_strings)\n"
   ]
  },
  {
   "cell_type": "code",
   "execution_count": 44,
   "metadata": {},
   "outputs": [],
   "source": [
    "df_short['date'] = df_short['date'].astype(str)"
   ]
  },
  {
   "cell_type": "code",
   "execution_count": 50,
   "metadata": {},
   "outputs": [],
   "source": [
    "df_short.drop([108, 141, 142], inplace=True)"
   ]
  },
  {
   "cell_type": "code",
   "execution_count": 51,
   "metadata": {},
   "outputs": [],
   "source": [
    "df_short.to_json(\"data/scraped_content.json\", orient=\"records\", lines=True)"
   ]
  }
 ],
 "metadata": {
  "kernelspec": {
   "display_name": "rag_research",
   "language": "python",
   "name": "python3"
  },
  "language_info": {
   "codemirror_mode": {
    "name": "ipython",
    "version": 3
   },
   "file_extension": ".py",
   "mimetype": "text/x-python",
   "name": "python",
   "nbconvert_exporter": "python",
   "pygments_lexer": "ipython3",
   "version": "3.10.10"
  }
 },
 "nbformat": 4,
 "nbformat_minor": 2
}
