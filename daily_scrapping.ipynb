{
 "cells": [
  {
   "cell_type": "code",
   "execution_count": null,
   "metadata": {},
   "outputs": [],
   "source": [
    "a = \"https://www.ellitoral.com/tag/violencia-narco\"\n",
    "\n",
    "b = \"https://www.ellitoral.com/temas/narcotrafico\"\n",
    "\n",
    "c = \"https://www.airedesantafe.com.ar/droga-a848/\"\n",
    "\n",
    "b = \"https://www.airedesantafe.com.ar/narcotrafico-a534\"\n",
    "\n",
    "d = \"https://www.airedesantafe.com.ar/cocaina-a1378\"\n",
    "\n",
    "e = \"https://www.airedesantafe.com.ar/drogas-a4787\""
   ]
  }
 ],
 "metadata": {
  "kernelspec": {
   "display_name": "rag_research",
   "language": "python",
   "name": "python3"
  },
  "language_info": {
   "name": "python",
   "version": "3.10.10"
  }
 },
 "nbformat": 4,
 "nbformat_minor": 2
}
