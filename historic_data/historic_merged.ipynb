{
 "cells": [
  {
   "cell_type": "code",
   "execution_count": 15,
   "metadata": {},
   "outputs": [],
   "source": [
    "import pandas as pd\n",
    "\n",
    "df_litoral = pd.read_excel(\"../data/df_litoral_final.xlsx\")\n",
    "df_aire= pd.read_excel(\"../data/df_aire_historic_content.xlsx\")"
   ]
  },
  {
   "cell_type": "code",
   "execution_count": 16,
   "metadata": {},
   "outputs": [
    {
     "data": {
      "text/plain": [
       "'[\\'Se trata de Marcelo Gómez (27). En marzo de 2021 El Litoral publicó cuando fue detenido tras secuestrar a su pareja y golpearla con un fierro durante 2 días. También le encontraron medio kilo de cocaína.\\', \\'No es la primera vez que Marcelo Gómez (uno de los detenidos anoche en Bella Italia tras protagonizar un increíble raid y tirotearse con la policía) tiene problemas con la ley.\\', \\'En marzo de 2021,El Litoral publicó cuando Marcelo, que por entonces tenía 23 años, secuestró a su novia(una joven de 21 años) y la sometió a todo tipo de tormentos durante dos días, en un terrible suceso ocurrido en San Carlos Centro, localidad de la son oriundos ambos protagonistas,\\', \\'El ataque, motivado por celos, incluyó agresiones con un fierro que causaron graves lesiones en la víctima, quien sufrió fracturas y daños en su cuerpo.\\', \\'La situación se desató un viernes y continuó hasta el domingo, cuando la madre de la joven, preocupada por no poder contactarla, alertó a las autoridades. En dicha circunstancia la madre de la chica llegó a comunicarse con Marcelo, quien ante la consulta sobre si sabía algo de la joven, sin ruborizarse contestó: \"sí… acá está… la tengo enterrada en el patio\".\\', \\'La joven logró escapar cuando la policía llegó a su rescate, aprovechando un breve descuido del atacante, y fue hospitalizada con lesiones severas. El agresor, con antecedentes de violencia y tenencia de drogas fue detenido.\\', \\'Este martes por la noche, efectivos de la policía de Santa Fe aprehendieron al tal Marcelo y a otro individuo y secuestraron 3 armas de fuego tras una persecución que inició en la ciudad e Gálvez y finalizó en la localidad de Bella Italia.\\', \\'La persecución se inicia tras un llamado al 911 donde una mujer de 25 años denuncia en Gálvez que su ex pareja la estaba amenazando desde hacía unos días. El joven de 27 años, oriundo de San Carlos, estaba en cercanías de la casa de la mujer cuando personal policial que realizaba patrullajes identifica la camioneta Hilux en la que iba y se enfrentó con el personal policial dándose a la fuga por los campos cercanos.\\', \\'Además, estos hombres amenazaron a un playero de una estación ubicada en Ruta 6 e Islas Malvinas de la localidad de Frank para cargar combustible y se fueron sin pagar.\\', \\'Es así que todas las unidades regionales de la zona intervienen en un operativo cerrojo conjunto para detener el vehículo que pasó por zona rural de Esperanza y luego hacia el Oeste de la Ruta Provincial 70 a gran velocidad y disparando a la policía.\\', \\'Al llegar a Bella Italia, un móvil policial que estaba en el operativo le cercó el paso a la camioneta que intentó evadir los controles y volcó al costado de la ruta. En el lugar, los efectivos policiales aprehendieron al conductor y al acompañante. Además, secuestraron 3 armas de fuego, cuatro teléfonos, una máscara de goma, inhibidores, un scanner, prendas de vestir y cocaína. Uno de los ocupantes del vehículo quedó internado en un hospital cercano por las heridas que sufrió en el accidente.\\', \\'Durante el operativo un móvil volcó en un desagüe hídrico (sin personal policial lesionado), hubo varios enfrentamientos armados ya que desde la camioneta efectuaron gran cantidad de disparos hacia los uniformados y móviles policiales (resultan con daños por impacto de los proyectiles dos móviles), como así también varias colisiones intencionales por parte del conductor de la camioneta.\\', \\'El fiscal interviniente, doctor Juan Manuel Puig, dispuso la detención de uno de ellos quedó en observación con custodia policial y el otro fue trasladado a la Alcaidía UR V. -\\', \\'Uno de los detenidos, Marcelo Gómez, de 27 años oriundo de San Carlos, tenía antecedentes y pedido de captura por una causa de violencia de género iniciada en la fiscalía de la ciudad de Gálvez.\\', \\'El domicilio de esta persona fue allanado el pasado 25 de septiembre y en el lugar los agentes habían encontrado drogas (medio kilo de cocaína), por lo que también se le dio intervención al Juzgado Federal.\\', \\'Los comentarios realizados son de exclusiva responsabilidad de sus autores y las consecuencias derivadas de ellos pueden ser pasibles de las sanciones legales que correspondan. Evitar comentarios ofensivos o que no respondan al tema abordado en la informaciÃ³n.\\']'"
      ]
     },
     "execution_count": 16,
     "metadata": {},
     "output_type": "execute_result"
    }
   ],
   "source": [
    "df_merged = pd.concat([df_litoral, df_aire], ignore_index=True) \n",
    "df_merged.content[15]"
   ]
  },
  {
   "cell_type": "code",
   "execution_count": 17,
   "metadata": {},
   "outputs": [
    {
     "data": {
      "text/plain": [
       "'[\\'Se trata de Marcelo Gómez (27). En marzo de 2021 El Litoral publicó cuando fue detenido tras secuestrar a su pareja y golpearla con un fierro durante 2 días. También le encontraron medio kilo de cocaína. No es la primera vez que Marcelo Gómez (uno de los detenidos anoche en Bella Italia tras protagonizar un increíble raid y tirotearse con la policía) tiene problemas con la ley. En marzo de 2021,El Litoral publicó cuando Marcelo, que por entonces tenía 23 años, secuestró a su novia(una joven de 21 años) y la sometió a todo tipo de tormentos durante dos días, en un terrible suceso ocurrido en San Carlos Centro, localidad de la son oriundos ambos protagonistas, El ataque, motivado por celos, incluyó agresiones con un fierro que causaron graves lesiones en la víctima, quien sufrió fracturas y daños en su cuerpo. La situación se desató un viernes y continuó hasta el domingo, cuando la madre de la joven, preocupada por no poder contactarla, alertó a las autoridades. En dicha circunstancia la madre de la chica llegó a comunicarse con Marcelo, quien ante la consulta sobre si sabía algo de la joven, sin ruborizarse contestó: \"sí… acá está… la tengo enterrada en el patio\". La joven logró escapar cuando la policía llegó a su rescate, aprovechando un breve descuido del atacante, y fue hospitalizada con lesiones severas. El agresor, con antecedentes de violencia y tenencia de drogas fue detenido. Este martes por la noche, efectivos de la policía de Santa Fe aprehendieron al tal Marcelo y a otro individuo y secuestraron 3 armas de fuego tras una persecución que inició en la ciudad e Gálvez y finalizó en la localidad de Bella Italia. La persecución se inicia tras un llamado al 911 donde una mujer de 25 años denuncia en Gálvez que su ex pareja la estaba amenazando desde hacía unos días. El joven de 27 años, oriundo de San Carlos, estaba en cercanías de la casa de la mujer cuando personal policial que realizaba patrullajes identifica la camioneta Hilux en la que iba y se enfrentó con el personal policial dándose a la fuga por los campos cercanos. Además, estos hombres amenazaron a un playero de una estación ubicada en Ruta 6 e Islas Malvinas de la localidad de Frank para cargar combustible y se fueron sin pagar. Es así que todas las unidades regionales de la zona intervienen en un operativo cerrojo conjunto para detener el vehículo que pasó por zona rural de Esperanza y luego hacia el Oeste de la Ruta Provincial 70 a gran velocidad y disparando a la policía. Al llegar a Bella Italia, un móvil policial que estaba en el operativo le cercó el paso a la camioneta que intentó evadir los controles y volcó al costado de la ruta. En el lugar, los efectivos policiales aprehendieron al conductor y al acompañante. Además, secuestraron 3 armas de fuego, cuatro teléfonos, una máscara de goma, inhibidores, un scanner, prendas de vestir y cocaína. Uno de los ocupantes del vehículo quedó internado en un hospital cercano por las heridas que sufrió en el accidente. Durante el operativo un móvil volcó en un desagüe hídrico (sin personal policial lesionado), hubo varios enfrentamientos armados ya que desde la camioneta efectuaron gran cantidad de disparos hacia los uniformados y móviles policiales (resultan con daños por impacto de los proyectiles dos móviles), como así también varias colisiones intencionales por parte del conductor de la camioneta. El fiscal interviniente, doctor Juan Manuel Puig, dispuso la detención de uno de ellos quedó en observación con custodia policial y el otro fue trasladado a la Alcaidía UR V. - Uno de los detenidos, Marcelo Gómez, de 27 años oriundo de San Carlos, tenía antecedentes y pedido de captura por una causa de violencia de género iniciada en la fiscalía de la ciudad de Gálvez. El domicilio de esta persona fue allanado el pasado 25 de septiembre y en el lugar los agentes habían encontrado drogas (medio kilo de cocaína), por lo que también se le dio intervención al Juzgado Federal. Los comentarios realizados son de exclusiva responsabilidad de sus autores y las consecuencias derivadas de ellos pueden ser pasibles de las sanciones legales que correspondan. Evitar comentarios ofensivos o que no respondan al tema abordado en la informaciÃ³n.\\']'"
      ]
     },
     "execution_count": 17,
     "metadata": {},
     "output_type": "execute_result"
    }
   ],
   "source": [
    "df_merged[\"content\"] = df_merged[\"content\"].str.replace('\\\\xa0', \" \")\n",
    "df_merged[\"content\"] = df_merged[\"content\"].str.replace(\"', '\", \" \")\n",
    "df_merged.content[15]"
   ]
  },
  {
   "cell_type": "code",
   "execution_count": 18,
   "metadata": {},
   "outputs": [
    {
     "data": {
      "text/plain": [
       "'Se trata de Marcelo Gómez (27). En marzo de 2021 El Litoral publicó cuando fue detenido tras secuestrar a su pareja y golpearla con un fierro durante 2 días. También le encontraron medio kilo de cocaína. No es la primera vez que Marcelo Gómez (uno de los detenidos anoche en Bella Italia tras protagonizar un increíble raid y tirotearse con la policía) tiene problemas con la ley. En marzo de 2021,El Litoral publicó cuando Marcelo, que por entonces tenía 23 años, secuestró a su novia(una joven de 21 años) y la sometió a todo tipo de tormentos durante dos días, en un terrible suceso ocurrido en San Carlos Centro, localidad de la son oriundos ambos protagonistas, El ataque, motivado por celos, incluyó agresiones con un fierro que causaron graves lesiones en la víctima, quien sufrió fracturas y daños en su cuerpo. La situación se desató un viernes y continuó hasta el domingo, cuando la madre de la joven, preocupada por no poder contactarla, alertó a las autoridades. En dicha circunstancia la madre de la chica llegó a comunicarse con Marcelo, quien ante la consulta sobre si sabía algo de la joven, sin ruborizarse contestó sí acá está la tengo enterrada en el patio. La joven logró escapar cuando la policía llegó a su rescate, aprovechando un breve descuido del atacante, y fue hospitalizada con lesiones severas. El agresor, con antecedentes de violencia y tenencia de drogas fue detenido. Este martes por la noche, efectivos de la policía de Santa Fe aprehendieron al tal Marcelo y a otro individuo y secuestraron 3 armas de fuego tras una persecución que inició en la ciudad e Gálvez y finalizó en la localidad de Bella Italia. La persecución se inicia tras un llamado al 911 donde una mujer de 25 años denuncia en Gálvez que su ex pareja la estaba amenazando desde hacía unos días. El joven de 27 años, oriundo de San Carlos, estaba en cercanías de la casa de la mujer cuando personal policial que realizaba patrullajes identifica la camioneta Hilux en la que iba y se enfrentó con el personal policial dándose a la fuga por los campos cercanos. Además, estos hombres amenazaron a un playero de una estación ubicada en Ruta 6 e Islas Malvinas de la localidad de Frank para cargar combustible y se fueron sin pagar. Es así que todas las unidades regionales de la zona intervienen en un operativo cerrojo conjunto para detener el vehículo que pasó por zona rural de Esperanza y luego hacia el Oeste de la Ruta Provincial 70 a gran velocidad y disparando a la policía. Al llegar a Bella Italia, un móvil policial que estaba en el operativo le cercó el paso a la camioneta que intentó evadir los controles y volcó al costado de la ruta. En el lugar, los efectivos policiales aprehendieron al conductor y al acompañante. Además, secuestraron 3 armas de fuego, cuatro teléfonos, una máscara de goma, inhibidores, un scanner, prendas de vestir y cocaína. Uno de los ocupantes del vehículo quedó internado en un hospital cercano por las heridas que sufrió en el accidente. Durante el operativo un móvil volcó en un desagüe hídrico (sin personal policial lesionado), hubo varios enfrentamientos armados ya que desde la camioneta efectuaron gran cantidad de disparos hacia los uniformados y móviles policiales (resultan con daños por impacto de los proyectiles dos móviles), como así también varias colisiones intencionales por parte del conductor de la camioneta. El fiscal interviniente, doctor Juan Manuel Puig, dispuso la detención de uno de ellos quedó en observación con custodia policial y el otro fue trasladado a la Alcaidía UR V.  Uno de los detenidos, Marcelo Gómez, de 27 años oriundo de San Carlos, tenía antecedentes y pedido de captura por una causa de violencia de género iniciada en la fiscalía de la ciudad de Gálvez. El domicilio de esta persona fue allanado el pasado 25 de septiembre y en el lugar los agentes habían encontrado drogas (medio kilo de cocaína), por lo que también se le dio intervención al Juzgado Federal. Los comentarios realizados son de exclusiva responsabilidad de sus autores y las consecuencias derivadas de ellos pueden ser pasibles de las sanciones legales que correspondan. Evitar comentarios ofensivos o que no respondan al tema abordado en la informacin.'"
      ]
     },
     "execution_count": 18,
     "metadata": {},
     "output_type": "execute_result"
    }
   ],
   "source": [
    "import re\n",
    "# Clean the 'content' column\n",
    "df_merged[\"content\"] = df_merged[\"content\"].apply(\n",
    "    lambda text: re.sub(r'[^a-zA-Záéíóúñü0-9\\s!¡?¿.,()]', '', text)\n",
    ")\n",
    "df_merged.content[15]"
   ]
  },
  {
   "cell_type": "code",
   "execution_count": 21,
   "metadata": {},
   "outputs": [],
   "source": [
    "df_merged.columns = df_merged.columns.str.lower()"
   ]
  },
  {
   "cell_type": "code",
   "execution_count": 26,
   "metadata": {},
   "outputs": [
    {
     "ename": "KeyboardInterrupt",
     "evalue": "",
     "output_type": "error",
     "traceback": [
      "\u001b[1;31m---------------------------------------------------------------------------\u001b[0m",
      "\u001b[1;31mKeyboardInterrupt\u001b[0m                         Traceback (most recent call last)",
      "Cell \u001b[1;32mIn[26], line 10\u001b[0m\n\u001b[0;32m      8\u001b[0m \u001b[38;5;66;03m# Send a ping to confirm a successful connection\u001b[39;00m\n\u001b[0;32m      9\u001b[0m \u001b[38;5;28;01mtry\u001b[39;00m:\n\u001b[1;32m---> 10\u001b[0m     \u001b[43mclient\u001b[49m\u001b[38;5;241;43m.\u001b[39;49m\u001b[43madmin\u001b[49m\u001b[38;5;241;43m.\u001b[39;49m\u001b[43mcommand\u001b[49m\u001b[43m(\u001b[49m\u001b[38;5;124;43m'\u001b[39;49m\u001b[38;5;124;43mping\u001b[39;49m\u001b[38;5;124;43m'\u001b[39;49m\u001b[43m)\u001b[49m\n\u001b[0;32m     11\u001b[0m     \u001b[38;5;28mprint\u001b[39m(\u001b[38;5;124m\"\u001b[39m\u001b[38;5;124mPinged your deployment. You successfully connected to MongoDB!\u001b[39m\u001b[38;5;124m\"\u001b[39m)\n\u001b[0;32m     12\u001b[0m \u001b[38;5;28;01mexcept\u001b[39;00m \u001b[38;5;167;01mException\u001b[39;00m \u001b[38;5;28;01mas\u001b[39;00m e:\n",
      "File \u001b[1;32mc:\\Users\\patricio\\.pyenv-win-venv\\envs\\rag_research\\lib\\site-packages\\pymongo\\_csot.py:119\u001b[0m, in \u001b[0;36mapply.<locals>.csot_wrapper\u001b[1;34m(self, *args, **kwargs)\u001b[0m\n\u001b[0;32m    117\u001b[0m         \u001b[38;5;28;01mwith\u001b[39;00m _TimeoutContext(timeout):\n\u001b[0;32m    118\u001b[0m             \u001b[38;5;28;01mreturn\u001b[39;00m func(\u001b[38;5;28mself\u001b[39m, \u001b[38;5;241m*\u001b[39margs, \u001b[38;5;241m*\u001b[39m\u001b[38;5;241m*\u001b[39mkwargs)\n\u001b[1;32m--> 119\u001b[0m \u001b[38;5;28;01mreturn\u001b[39;00m func(\u001b[38;5;28mself\u001b[39m, \u001b[38;5;241m*\u001b[39margs, \u001b[38;5;241m*\u001b[39m\u001b[38;5;241m*\u001b[39mkwargs)\n",
      "File \u001b[1;32mc:\\Users\\patricio\\.pyenv-win-venv\\envs\\rag_research\\lib\\site-packages\\pymongo\\synchronous\\database.py:926\u001b[0m, in \u001b[0;36mDatabase.command\u001b[1;34m(self, command, value, check, allowable_errors, read_preference, codec_options, session, comment, **kwargs)\u001b[0m\n\u001b[0;32m    924\u001b[0m \u001b[38;5;28;01mif\u001b[39;00m read_preference \u001b[38;5;129;01mis\u001b[39;00m \u001b[38;5;28;01mNone\u001b[39;00m:\n\u001b[0;32m    925\u001b[0m     read_preference \u001b[38;5;241m=\u001b[39m (session \u001b[38;5;129;01mand\u001b[39;00m session\u001b[38;5;241m.\u001b[39m_txn_read_preference()) \u001b[38;5;129;01mor\u001b[39;00m ReadPreference\u001b[38;5;241m.\u001b[39mPRIMARY\n\u001b[1;32m--> 926\u001b[0m \u001b[38;5;28;01mwith\u001b[39;00m \u001b[38;5;28;43mself\u001b[39;49m\u001b[38;5;241;43m.\u001b[39;49m\u001b[43m_client\u001b[49m\u001b[38;5;241;43m.\u001b[39;49m\u001b[43m_conn_for_reads\u001b[49m\u001b[43m(\u001b[49m\u001b[43mread_preference\u001b[49m\u001b[43m,\u001b[49m\u001b[43m \u001b[49m\u001b[43msession\u001b[49m\u001b[43m,\u001b[49m\u001b[43m \u001b[49m\u001b[43moperation\u001b[49m\u001b[38;5;241;43m=\u001b[39;49m\u001b[43mcommand_name\u001b[49m\u001b[43m)\u001b[49m \u001b[38;5;28;01mas\u001b[39;00m (\n\u001b[0;32m    927\u001b[0m     connection,\n\u001b[0;32m    928\u001b[0m     read_preference,\n\u001b[0;32m    929\u001b[0m ):\n\u001b[0;32m    930\u001b[0m     \u001b[38;5;28;01mreturn\u001b[39;00m \u001b[38;5;28mself\u001b[39m\u001b[38;5;241m.\u001b[39m_command(\n\u001b[0;32m    931\u001b[0m         connection,\n\u001b[0;32m    932\u001b[0m         command,\n\u001b[1;32m   (...)\u001b[0m\n\u001b[0;32m    939\u001b[0m         \u001b[38;5;241m*\u001b[39m\u001b[38;5;241m*\u001b[39mkwargs,\n\u001b[0;32m    940\u001b[0m     )\n",
      "File \u001b[1;32mc:\\Users\\patricio\\.pyenv-win-venv\\envs\\rag_research\\lib\\site-packages\\pymongo\\synchronous\\mongo_client.py:1701\u001b[0m, in \u001b[0;36mMongoClient._conn_for_reads\u001b[1;34m(self, read_preference, session, operation)\u001b[0m\n\u001b[0;32m   1694\u001b[0m \u001b[38;5;28;01mdef\u001b[39;00m \u001b[38;5;21m_conn_for_reads\u001b[39m(\n\u001b[0;32m   1695\u001b[0m     \u001b[38;5;28mself\u001b[39m,\n\u001b[0;32m   1696\u001b[0m     read_preference: _ServerMode,\n\u001b[0;32m   1697\u001b[0m     session: Optional[ClientSession],\n\u001b[0;32m   1698\u001b[0m     operation: \u001b[38;5;28mstr\u001b[39m,\n\u001b[0;32m   1699\u001b[0m ) \u001b[38;5;241m-\u001b[39m\u001b[38;5;241m>\u001b[39m ContextManager[\u001b[38;5;28mtuple\u001b[39m[Connection, _ServerMode]]:\n\u001b[0;32m   1700\u001b[0m     \u001b[38;5;28;01massert\u001b[39;00m read_preference \u001b[38;5;129;01mis\u001b[39;00m \u001b[38;5;129;01mnot\u001b[39;00m \u001b[38;5;28;01mNone\u001b[39;00m, \u001b[38;5;124m\"\u001b[39m\u001b[38;5;124mread_preference must not be None\u001b[39m\u001b[38;5;124m\"\u001b[39m\n\u001b[1;32m-> 1701\u001b[0m     server \u001b[38;5;241m=\u001b[39m \u001b[38;5;28;43mself\u001b[39;49m\u001b[38;5;241;43m.\u001b[39;49m\u001b[43m_select_server\u001b[49m\u001b[43m(\u001b[49m\u001b[43mread_preference\u001b[49m\u001b[43m,\u001b[49m\u001b[43m \u001b[49m\u001b[43msession\u001b[49m\u001b[43m,\u001b[49m\u001b[43m \u001b[49m\u001b[43moperation\u001b[49m\u001b[43m)\u001b[49m\n\u001b[0;32m   1702\u001b[0m     \u001b[38;5;28;01mreturn\u001b[39;00m \u001b[38;5;28mself\u001b[39m\u001b[38;5;241m.\u001b[39m_conn_from_server(read_preference, server, session)\n",
      "File \u001b[1;32mc:\\Users\\patricio\\.pyenv-win-venv\\envs\\rag_research\\lib\\site-packages\\pymongo\\synchronous\\mongo_client.py:1649\u001b[0m, in \u001b[0;36mMongoClient._select_server\u001b[1;34m(self, server_selector, session, operation, address, deprioritized_servers, operation_id)\u001b[0m\n\u001b[0;32m   1647\u001b[0m             \u001b[38;5;28;01mraise\u001b[39;00m AutoReconnect(\u001b[38;5;124m\"\u001b[39m\u001b[38;5;124mserver \u001b[39m\u001b[38;5;132;01m%s\u001b[39;00m\u001b[38;5;124m:\u001b[39m\u001b[38;5;132;01m%s\u001b[39;00m\u001b[38;5;124m no longer available\u001b[39m\u001b[38;5;124m\"\u001b[39m \u001b[38;5;241m%\u001b[39m address)  \u001b[38;5;66;03m# noqa: UP031\u001b[39;00m\n\u001b[0;32m   1648\u001b[0m     \u001b[38;5;28;01melse\u001b[39;00m:\n\u001b[1;32m-> 1649\u001b[0m         server \u001b[38;5;241m=\u001b[39m \u001b[43mtopology\u001b[49m\u001b[38;5;241;43m.\u001b[39;49m\u001b[43mselect_server\u001b[49m\u001b[43m(\u001b[49m\n\u001b[0;32m   1650\u001b[0m \u001b[43m            \u001b[49m\u001b[43mserver_selector\u001b[49m\u001b[43m,\u001b[49m\n\u001b[0;32m   1651\u001b[0m \u001b[43m            \u001b[49m\u001b[43moperation\u001b[49m\u001b[43m,\u001b[49m\n\u001b[0;32m   1652\u001b[0m \u001b[43m            \u001b[49m\u001b[43mdeprioritized_servers\u001b[49m\u001b[38;5;241;43m=\u001b[39;49m\u001b[43mdeprioritized_servers\u001b[49m\u001b[43m,\u001b[49m\n\u001b[0;32m   1653\u001b[0m \u001b[43m            \u001b[49m\u001b[43moperation_id\u001b[49m\u001b[38;5;241;43m=\u001b[39;49m\u001b[43moperation_id\u001b[49m\u001b[43m,\u001b[49m\n\u001b[0;32m   1654\u001b[0m \u001b[43m        \u001b[49m\u001b[43m)\u001b[49m\n\u001b[0;32m   1655\u001b[0m     \u001b[38;5;28;01mreturn\u001b[39;00m server\n\u001b[0;32m   1656\u001b[0m \u001b[38;5;28;01mexcept\u001b[39;00m PyMongoError \u001b[38;5;28;01mas\u001b[39;00m exc:\n\u001b[0;32m   1657\u001b[0m     \u001b[38;5;66;03m# Server selection errors in a transaction are transient.\u001b[39;00m\n",
      "File \u001b[1;32mc:\\Users\\patricio\\.pyenv-win-venv\\envs\\rag_research\\lib\\site-packages\\pymongo\\synchronous\\topology.py:398\u001b[0m, in \u001b[0;36mTopology.select_server\u001b[1;34m(self, selector, operation, server_selection_timeout, address, deprioritized_servers, operation_id)\u001b[0m\n\u001b[0;32m    388\u001b[0m \u001b[38;5;28;01mdef\u001b[39;00m \u001b[38;5;21mselect_server\u001b[39m(\n\u001b[0;32m    389\u001b[0m     \u001b[38;5;28mself\u001b[39m,\n\u001b[0;32m    390\u001b[0m     selector: Callable[[Selection], Selection],\n\u001b[1;32m   (...)\u001b[0m\n\u001b[0;32m    395\u001b[0m     operation_id: Optional[\u001b[38;5;28mint\u001b[39m] \u001b[38;5;241m=\u001b[39m \u001b[38;5;28;01mNone\u001b[39;00m,\n\u001b[0;32m    396\u001b[0m ) \u001b[38;5;241m-\u001b[39m\u001b[38;5;241m>\u001b[39m Server:\n\u001b[0;32m    397\u001b[0m \u001b[38;5;250m    \u001b[39m\u001b[38;5;124;03m\"\"\"Like select_servers, but choose a random server if several match.\"\"\"\u001b[39;00m\n\u001b[1;32m--> 398\u001b[0m     server \u001b[38;5;241m=\u001b[39m \u001b[38;5;28;43mself\u001b[39;49m\u001b[38;5;241;43m.\u001b[39;49m\u001b[43m_select_server\u001b[49m\u001b[43m(\u001b[49m\n\u001b[0;32m    399\u001b[0m \u001b[43m        \u001b[49m\u001b[43mselector\u001b[49m\u001b[43m,\u001b[49m\n\u001b[0;32m    400\u001b[0m \u001b[43m        \u001b[49m\u001b[43moperation\u001b[49m\u001b[43m,\u001b[49m\n\u001b[0;32m    401\u001b[0m \u001b[43m        \u001b[49m\u001b[43mserver_selection_timeout\u001b[49m\u001b[43m,\u001b[49m\n\u001b[0;32m    402\u001b[0m \u001b[43m        \u001b[49m\u001b[43maddress\u001b[49m\u001b[43m,\u001b[49m\n\u001b[0;32m    403\u001b[0m \u001b[43m        \u001b[49m\u001b[43mdeprioritized_servers\u001b[49m\u001b[43m,\u001b[49m\n\u001b[0;32m    404\u001b[0m \u001b[43m        \u001b[49m\u001b[43moperation_id\u001b[49m\u001b[38;5;241;43m=\u001b[39;49m\u001b[43moperation_id\u001b[49m\u001b[43m,\u001b[49m\n\u001b[0;32m    405\u001b[0m \u001b[43m    \u001b[49m\u001b[43m)\u001b[49m\n\u001b[0;32m    406\u001b[0m     \u001b[38;5;28;01mif\u001b[39;00m _csot\u001b[38;5;241m.\u001b[39mget_timeout():\n\u001b[0;32m    407\u001b[0m         _csot\u001b[38;5;241m.\u001b[39mset_rtt(server\u001b[38;5;241m.\u001b[39mdescription\u001b[38;5;241m.\u001b[39mmin_round_trip_time)\n",
      "File \u001b[1;32mc:\\Users\\patricio\\.pyenv-win-venv\\envs\\rag_research\\lib\\site-packages\\pymongo\\synchronous\\topology.py:376\u001b[0m, in \u001b[0;36mTopology._select_server\u001b[1;34m(self, selector, operation, server_selection_timeout, address, deprioritized_servers, operation_id)\u001b[0m\n\u001b[0;32m    367\u001b[0m \u001b[38;5;28;01mdef\u001b[39;00m \u001b[38;5;21m_select_server\u001b[39m(\n\u001b[0;32m    368\u001b[0m     \u001b[38;5;28mself\u001b[39m,\n\u001b[0;32m    369\u001b[0m     selector: Callable[[Selection], Selection],\n\u001b[1;32m   (...)\u001b[0m\n\u001b[0;32m    374\u001b[0m     operation_id: Optional[\u001b[38;5;28mint\u001b[39m] \u001b[38;5;241m=\u001b[39m \u001b[38;5;28;01mNone\u001b[39;00m,\n\u001b[0;32m    375\u001b[0m ) \u001b[38;5;241m-\u001b[39m\u001b[38;5;241m>\u001b[39m Server:\n\u001b[1;32m--> 376\u001b[0m     servers \u001b[38;5;241m=\u001b[39m \u001b[38;5;28;43mself\u001b[39;49m\u001b[38;5;241;43m.\u001b[39;49m\u001b[43mselect_servers\u001b[49m\u001b[43m(\u001b[49m\n\u001b[0;32m    377\u001b[0m \u001b[43m        \u001b[49m\u001b[43mselector\u001b[49m\u001b[43m,\u001b[49m\u001b[43m \u001b[49m\u001b[43moperation\u001b[49m\u001b[43m,\u001b[49m\u001b[43m \u001b[49m\u001b[43mserver_selection_timeout\u001b[49m\u001b[43m,\u001b[49m\u001b[43m \u001b[49m\u001b[43maddress\u001b[49m\u001b[43m,\u001b[49m\u001b[43m \u001b[49m\u001b[43moperation_id\u001b[49m\n\u001b[0;32m    378\u001b[0m \u001b[43m    \u001b[49m\u001b[43m)\u001b[49m\n\u001b[0;32m    379\u001b[0m     servers \u001b[38;5;241m=\u001b[39m _filter_servers(servers, deprioritized_servers)\n\u001b[0;32m    380\u001b[0m     \u001b[38;5;28;01mif\u001b[39;00m \u001b[38;5;28mlen\u001b[39m(servers) \u001b[38;5;241m==\u001b[39m \u001b[38;5;241m1\u001b[39m:\n",
      "File \u001b[1;32mc:\\Users\\patricio\\.pyenv-win-venv\\envs\\rag_research\\lib\\site-packages\\pymongo\\synchronous\\topology.py:283\u001b[0m, in \u001b[0;36mTopology.select_servers\u001b[1;34m(self, selector, operation, server_selection_timeout, address, operation_id)\u001b[0m\n\u001b[0;32m    280\u001b[0m     server_timeout \u001b[38;5;241m=\u001b[39m server_selection_timeout\n\u001b[0;32m    282\u001b[0m \u001b[38;5;28;01mwith\u001b[39;00m \u001b[38;5;28mself\u001b[39m\u001b[38;5;241m.\u001b[39m_lock:\n\u001b[1;32m--> 283\u001b[0m     server_descriptions \u001b[38;5;241m=\u001b[39m \u001b[38;5;28;43mself\u001b[39;49m\u001b[38;5;241;43m.\u001b[39;49m\u001b[43m_select_servers_loop\u001b[49m\u001b[43m(\u001b[49m\n\u001b[0;32m    284\u001b[0m \u001b[43m        \u001b[49m\u001b[43mselector\u001b[49m\u001b[43m,\u001b[49m\u001b[43m \u001b[49m\u001b[43mserver_timeout\u001b[49m\u001b[43m,\u001b[49m\u001b[43m \u001b[49m\u001b[43moperation\u001b[49m\u001b[43m,\u001b[49m\u001b[43m \u001b[49m\u001b[43moperation_id\u001b[49m\u001b[43m,\u001b[49m\u001b[43m \u001b[49m\u001b[43maddress\u001b[49m\n\u001b[0;32m    285\u001b[0m \u001b[43m    \u001b[49m\u001b[43m)\u001b[49m\n\u001b[0;32m    287\u001b[0m     \u001b[38;5;28;01mreturn\u001b[39;00m [\n\u001b[0;32m    288\u001b[0m         cast(Server, \u001b[38;5;28mself\u001b[39m\u001b[38;5;241m.\u001b[39mget_server_by_address(sd\u001b[38;5;241m.\u001b[39maddress)) \u001b[38;5;28;01mfor\u001b[39;00m sd \u001b[38;5;129;01min\u001b[39;00m server_descriptions\n\u001b[0;32m    289\u001b[0m     ]\n",
      "File \u001b[1;32mc:\\Users\\patricio\\.pyenv-win-venv\\envs\\rag_research\\lib\\site-packages\\pymongo\\synchronous\\topology.py:357\u001b[0m, in \u001b[0;36mTopology._select_servers_loop\u001b[1;34m(self, selector, timeout, operation, operation_id, address)\u001b[0m\n\u001b[0;32m    351\u001b[0m \u001b[38;5;28mself\u001b[39m\u001b[38;5;241m.\u001b[39m_request_check_all()\n\u001b[0;32m    353\u001b[0m \u001b[38;5;66;03m# Release the lock and wait for the topology description to\u001b[39;00m\n\u001b[0;32m    354\u001b[0m \u001b[38;5;66;03m# change, or for a timeout. We won't miss any changes that\u001b[39;00m\n\u001b[0;32m    355\u001b[0m \u001b[38;5;66;03m# came after our most recent apply_selector call, since we've\u001b[39;00m\n\u001b[0;32m    356\u001b[0m \u001b[38;5;66;03m# held the lock until now.\u001b[39;00m\n\u001b[1;32m--> 357\u001b[0m \u001b[38;5;28;43mself\u001b[39;49m\u001b[38;5;241;43m.\u001b[39;49m\u001b[43m_condition\u001b[49m\u001b[38;5;241;43m.\u001b[39;49m\u001b[43mwait\u001b[49m\u001b[43m(\u001b[49m\u001b[43mcommon\u001b[49m\u001b[38;5;241;43m.\u001b[39;49m\u001b[43mMIN_HEARTBEAT_INTERVAL\u001b[49m\u001b[43m)\u001b[49m\n\u001b[0;32m    358\u001b[0m \u001b[38;5;28mself\u001b[39m\u001b[38;5;241m.\u001b[39m_description\u001b[38;5;241m.\u001b[39mcheck_compatible()\n\u001b[0;32m    359\u001b[0m now \u001b[38;5;241m=\u001b[39m time\u001b[38;5;241m.\u001b[39mmonotonic()\n",
      "File \u001b[1;32m~\\.pyenv\\pyenv-win\\versions\\3.10.10\\lib\\threading.py:324\u001b[0m, in \u001b[0;36mCondition.wait\u001b[1;34m(self, timeout)\u001b[0m\n\u001b[0;32m    322\u001b[0m \u001b[38;5;28;01melse\u001b[39;00m:\n\u001b[0;32m    323\u001b[0m     \u001b[38;5;28;01mif\u001b[39;00m timeout \u001b[38;5;241m>\u001b[39m \u001b[38;5;241m0\u001b[39m:\n\u001b[1;32m--> 324\u001b[0m         gotit \u001b[38;5;241m=\u001b[39m \u001b[43mwaiter\u001b[49m\u001b[38;5;241;43m.\u001b[39;49m\u001b[43macquire\u001b[49m\u001b[43m(\u001b[49m\u001b[38;5;28;43;01mTrue\u001b[39;49;00m\u001b[43m,\u001b[49m\u001b[43m \u001b[49m\u001b[43mtimeout\u001b[49m\u001b[43m)\u001b[49m\n\u001b[0;32m    325\u001b[0m     \u001b[38;5;28;01melse\u001b[39;00m:\n\u001b[0;32m    326\u001b[0m         gotit \u001b[38;5;241m=\u001b[39m waiter\u001b[38;5;241m.\u001b[39macquire(\u001b[38;5;28;01mFalse\u001b[39;00m)\n",
      "\u001b[1;31mKeyboardInterrupt\u001b[0m: "
     ]
    }
   ],
   "source": [
    "from pymongo.mongo_client import MongoClient\n",
    "from pymongo.server_api import ServerApi\n",
    "import os\n",
    "# Retrieve environment variables\n",
    "mongodb_uri = os.getenv(\"MONGODB_URI\")\n",
    "\n",
    "client = MongoClient(mongodb_uri, server_api=ServerApi('1'))\n",
    "# Send a ping to confirm a successful connection\n",
    "try:\n",
    "    client.admin.command('ping')\n",
    "    print(\"Pinged your deployment. You successfully connected to MongoDB!\")\n",
    "except Exception as e:\n",
    "    print(e)"
   ]
  },
  {
   "cell_type": "code",
   "execution_count": 29,
   "metadata": {},
   "outputs": [],
   "source": [
    "# Retrieve environment variables\n",
    "mongodb_uri = os.getenv(\"MONGODB_URI\")\n",
    "mongodb_uri"
   ]
  },
  {
   "cell_type": "code",
   "execution_count": 30,
   "metadata": {},
   "outputs": [
    {
     "name": "stdout",
     "output_type": "stream",
     "text": [
      "None\n"
     ]
    }
   ],
   "source": [
    "print(mongodb_uri)"
   ]
  },
  {
   "cell_type": "code",
   "execution_count": null,
   "metadata": {},
   "outputs": [],
   "source": []
  }
 ],
 "metadata": {
  "kernelspec": {
   "display_name": "rag_research",
   "language": "python",
   "name": "python3"
  },
  "language_info": {
   "codemirror_mode": {
    "name": "ipython",
    "version": 3
   },
   "file_extension": ".py",
   "mimetype": "text/x-python",
   "name": "python",
   "nbconvert_exporter": "python",
   "pygments_lexer": "ipython3",
   "version": "3.10.10"
  }
 },
 "nbformat": 4,
 "nbformat_minor": 2
}
