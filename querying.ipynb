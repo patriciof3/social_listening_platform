{
 "cells": [
  {
   "cell_type": "code",
   "execution_count": 1,
   "metadata": {},
   "outputs": [],
   "source": [
    "import pandas as pd\n",
    "import re\n",
    "import chromadb\n",
    "from chromadb.config import Settings\n",
    "from chromadb.utils import embedding_functions\n"
   ]
  },
  {
   "cell_type": "markdown",
   "metadata": {},
   "source": [
    "### Reading Data"
   ]
  },
  {
   "cell_type": "code",
   "execution_count": 2,
   "metadata": {},
   "outputs": [],
   "source": [
    "#dataset with news between 2008 and 2016 from Rosario12\n",
    "df = pd.read_json(\"data/scraped_content.json\", lines=True)\n",
    "df['date'] = df['date'].dt.strftime('%Y/%m/%d')\n"
   ]
  },
  {
   "cell_type": "code",
   "execution_count": 3,
   "metadata": {},
   "outputs": [],
   "source": [
    "df_exploded = df.explode('content').reset_index(drop=True)"
   ]
  },
  {
   "cell_type": "code",
   "execution_count": 4,
   "metadata": {},
   "outputs": [],
   "source": [
    "sentence_transformer_ef = embedding_functions.SentenceTransformerEmbeddingFunction(model_name=\"paraphrase-multilingual-mpnet-base-v2\")\n"
   ]
  },
  {
   "cell_type": "code",
   "execution_count": null,
   "metadata": {},
   "outputs": [],
   "source": [
    "# Initialize Chroma client with persistence\n",
    "client = chromadb.PersistentClient(path=\"data/chromastorage\")\n",
    "\n",
    "# Delete the collection if it exists\n",
    "client.delete_collection(name=\"rag_2008_2011\")\n",
    "\n",
    "# Create a Chroma collection (persistent)\n",
    "collection = client.create_collection(\n",
    "    name=\"rag_2008_2011\",\n",
    "    embedding_function=sentence_transformer_ef  # Your sentence transformer embedding function\n",
    ")\n",
    "\n",
    "# Iterate through the rows and insert embeddings with metadata\n",
    "for idx, row in df_exploded.iterrows():\n",
    "    # Ensure content is wrapped in a list\n",
    "    documents = [row['content']]\n",
    "\n",
    "    # Define metadata\n",
    "    metadata = {\n",
    "        \"title\": row['title'] if pd.notna(row['title']) else \"No Title\",\n",
    "        \"link\": row['link'] if pd.notna(row['link']) else \"No Link\",\n",
    "        \"date\": row['date'] if pd.notna(row['date']) else \"No Date\"\n",
    "    }\n",
    "\n",
    "    # Add to the collection\n",
    "    collection.add(\n",
    "        documents=documents,  # List of content\n",
    "        metadatas=[metadata],  # Corresponding metadata\n",
    "        ids=[str(idx)]         # Use index or another unique identifier\n",
    "    )"
   ]
  },
  {
   "cell_type": "markdown",
   "metadata": {},
   "source": [
    "Vectorizar con modelo preentrenado (ver posibilidad de hacerlo con otro específicamente entrenado en español)"
   ]
  },
  {
   "cell_type": "code",
   "execution_count": 33,
   "metadata": {},
   "outputs": [
    {
     "data": {
      "text/plain": [
       "{'ids': [['412', '102', '417', '403', '566']],\n",
       " 'distances': None,\n",
       " 'metadatas': [[{'date': '2011/08/14',\n",
       "    'link': 'https://www.lacapital.com.ar/policiales/mitos-y-verdades-la-produccioacuten-cocaiacutena-cocinas-la-ciudad-n412063.html',\n",
       "    'title': 'Mitos y verdades sobre la producción de cocaína en cocinas de la ciudad'},\n",
       "   {'date': '2010/04/29',\n",
       "    'link': 'https://www.ellitoral.com/index.php/diarios/2010/04/29/sucesos/SUCE-05.html',\n",
       "    'title': 'Investigan el origen del paco secuestrado'},\n",
       "   {'date': '2011/08/14',\n",
       "    'link': 'https://www.lacapital.com.ar/policiales/mitos-y-verdades-la-produccioacuten-cocaiacutena-cocinas-la-ciudad-n412063.html',\n",
       "    'title': 'Mitos y verdades sobre la producción de cocaína en cocinas de la ciudad'},\n",
       "   {'date': '2011/08/06',\n",
       "    'link': 'https://www.lacapital.com.ar/policiales/coacutemo-operaba-la-banda-narco-la-que-le-hallaron-50-kilos-cocaiacutena-n412657.html',\n",
       "    'title': 'Cómo operaba la banda narco a la que le hallaron 50 kilos de cocaína'},\n",
       "   {'date': '2008/11/26',\n",
       "    'link': 'https://www.pagina12.com.ar/diario/suplementos/rosario/10-16215-2008-11-26.html',\n",
       "    'title': 'La provincia no sabe cuál es la ruta de la droga'}]],\n",
       " 'embeddings': None,\n",
       " 'documents': [['\"En el análisis del narcotráfico en la Argentina se pensaba, hasta no hace mucho, que éramos un país de paso y consumo. Pero hoy es normal que se produzca cocaína a partir de la importación de pasta base, preferentemente desde Bolivia. Pero ese no es el mayor de los problemas, lo más grande será cuando comiencen a propagarse laboratorios de drogas sintéticas como la metanfetamina y sus derivados, que es hacía donde vamos. Eso es mucho más difícil de detectar y son drogas más adictivas\", reflexionó el comisario principal Néstor Pozzi, jefe del Laboratorio Químico, Precursores Químicos y Gabinete Técnico de la ex Drogas Peligrosas de la provincia. En pocas palabras, Pozzi es quien se encarga de analizar la droga que secuestra la policía antinarcóticos. Hace 28 años que trabaja en el rubro y La Capital lo consultó para conocer más sobre el complejo mundo de las drogas. Un tema del que tanto se habla y poco se conoce. \"Cocaína puede fabricar cualquiera, es como realizar una receta de cocina donde cada cocinero le da su toque personal. Pero lo que se desconoce profundamente son los riesgos que se corren al manipular insumos químicos irresponsablemente\", indicó el profesional.',\n",
       "   'El paco se produce con pasta base de cocaína, harina, kerosene y vidrio, entre otras sustancias. La dosis de esta droga, que es muy adictiva y se expandió a partir de 2001 en Capital Federal y el conurbano bonaerense, tiene un bajo valor: oscila entre los dos y tres pesos. Si se confirma que esta sustancia provenía de Buenos Aires marcaría cambios en el sistema de comercialización de la droga. Traer paco de Buenos Aires tiene un riesgo muy alto y un bajo margen de ganancia para los narcos.',\n",
       "   'De fronteras e insumos.La pasta base con la que se cocina cocaína en Rosario ingresa al país por las fronteras con Bolivia, un país en el que, según lo especialistas, los grupos narcos han concentrado la producción. A esa materia prima hay que sumarle los químicos necesarios para realizar el preparado. Pero ¿quién cocina la droga? \"Lo puede hacer cualquiera aunque esta gente parece desconocer los peligros que acarrea el manejo de los químicos y no toman los recaudos para hacerlo\", dijo Pozzi. Y agregó: \"Son artesanos. Todos usan la misma técnica y la calidad depende de la pureza de la mercadería utilizada. Es como una receta de cocina\".',\n",
       "   'La droga secuestrada en el barrio Tiro Suizo tiene como procedencia Perú, según coincidieron los investigadores. Y estimaron que ingresó a Argentina por vía terrestre. En Rosario un kilo de esta variedad tiene un valor estimativo a los 35 mil pesos y, fraccionada, se le puede sacar un valor de hasta 150 mil pesos según los conocedores de este mercado ilegal.',\n",
       "   'De todas maneras, Cappielllo planteó que para ingresar la droga al país \"se deben tener ciertos permisos\". Pero \"si entra en forma ilegal, ya hay otros caminos que habrá que averiguar\", dijo. \"¿Cómo ingresa la droga a la Argentina?\", se preguntó el ministro. \"Porque si esto venía de la India tiene que tener ciertos permisos, uno de ellos es del Sedronar y el otro es el Anmat (Administración Nacional de Medicamentos, Alimentos y Tecnología Médica). Ante estas situaciones, la otra vez el Sedronar actuó rápidamente, pidió la colaboración de la provincia de Santa Fe, nosotros hicimos las acciones que correspondían y la droga no entró. Pero si ahora, la efedrina entra en forma ilegal, bueno, ya hay otros caminos que habrá que averiguar \\ufdd3concluyó.']],\n",
       " 'uris': None,\n",
       " 'data': None,\n",
       " 'included': ['metadatas', 'documents']}"
      ]
     },
     "execution_count": 33,
     "metadata": {},
     "output_type": "execute_result"
    }
   ],
   "source": [
    "query = \"¿por dónde ingresa la droga a la Argentina?\"\n",
    "\n",
    "result = collection.query(query_texts=[query], n_results=5, include=[\"metadatas\", \"documents\"])\n",
    "\n",
    "result"
   ]
  }
 ],
 "metadata": {
  "kernelspec": {
   "display_name": "rag_research",
   "language": "python",
   "name": "python3"
  },
  "language_info": {
   "codemirror_mode": {
    "name": "ipython",
    "version": 3
   },
   "file_extension": ".py",
   "mimetype": "text/x-python",
   "name": "python",
   "nbconvert_exporter": "python",
   "pygments_lexer": "ipython3",
   "version": "3.10.10"
  }
 },
 "nbformat": 4,
 "nbformat_minor": 2
}
