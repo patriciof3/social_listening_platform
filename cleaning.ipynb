{
 "cells": [
  {
   "cell_type": "code",
   "execution_count": 21,
   "metadata": {},
   "outputs": [
    {
     "name": "stderr",
     "output_type": "stream",
     "text": [
      "[nltk_data] Downloading package stopwords to\n",
      "[nltk_data]     C:\\Users\\patricio\\AppData\\Roaming\\nltk_data...\n",
      "[nltk_data]   Package stopwords is already up-to-date!\n",
      "[nltk_data] Downloading package punkt to\n",
      "[nltk_data]     C:\\Users\\patricio\\AppData\\Roaming\\nltk_data...\n",
      "[nltk_data]   Package punkt is already up-to-date!\n",
      "[nltk_data] Downloading package punkt_tab to\n",
      "[nltk_data]     C:\\Users\\patricio\\AppData\\Roaming\\nltk_data...\n",
      "[nltk_data]   Unzipping tokenizers\\punkt_tab.zip.\n"
     ]
    },
    {
     "data": {
      "text/plain": [
       "True"
      ]
     },
     "execution_count": 21,
     "metadata": {},
     "output_type": "execute_result"
    }
   ],
   "source": [
    "import pandas as pd\n",
    "import re\n",
    "from nltk.corpus import stopwords\n",
    "from nltk.tokenize import word_tokenize\n",
    "import nltk\n",
    "nltk.download('stopwords')\n",
    "nltk.download('punkt')\n",
    "nltk.download('punkt_tab')"
   ]
  },
  {
   "cell_type": "markdown",
   "metadata": {},
   "source": [
    "### Reading Data"
   ]
  },
  {
   "cell_type": "code",
   "execution_count": 22,
   "metadata": {},
   "outputs": [
    {
     "data": {
      "text/plain": [
       "media\n",
       "p12        360\n",
       "litoral    128\n",
       "Name: count, dtype: int64"
      ]
     },
     "execution_count": 22,
     "metadata": {},
     "output_type": "execute_result"
    }
   ],
   "source": [
    "#dataset with news between 2008 and 2016 from Rosario12\n",
    "df_p12 = pd.read_excel(\"data/p12_2008_2016.xlsx\")\n",
    "\n",
    "#dataset with news between 2008 and 2020 from El Litoral\n",
    "df_el = pd.read_excel(\"data/el_2008_2020.xlsx\")\n",
    "\n",
    "df_el[\"media\"] = \"litoral\"\n",
    "df_p12[\"media\"] = \"p12\"\n",
    "\n",
    "df_el = df_el[['date', 'title', 'url', 'content', 'media']]\n",
    "df_p12 = df_p12[['date', 'title', 'url', 'content', 'media']]\n",
    "\n",
    "df = pd.concat([df_el, df_p12], axis=0, ignore_index=True)\n",
    "\n",
    "df.value_counts(\"media\")"
   ]
  },
  {
   "cell_type": "code",
   "execution_count": 23,
   "metadata": {},
   "outputs": [
    {
     "data": {
      "text/plain": [
       "date\n",
       "2008     22\n",
       "2009     32\n",
       "2010     36\n",
       "2011     33\n",
       "2012     81\n",
       "2013    123\n",
       "2014    104\n",
       "2015     57\n",
       "Name: count, dtype: int64"
      ]
     },
     "execution_count": 23,
     "metadata": {},
     "output_type": "execute_result"
    }
   ],
   "source": [
    "#transform date column to dateformat\n",
    "df[\"date\"] = pd.to_datetime(df[\"date\"])\n",
    "\n",
    "df[\"date\"].dt.year.value_counts().sort_index()"
   ]
  },
  {
   "cell_type": "markdown",
   "metadata": {},
   "source": [
    "### Function to clean text data"
   ]
  },
  {
   "cell_type": "code",
   "execution_count": 24,
   "metadata": {},
   "outputs": [],
   "source": [
    "def clean_text_data(df, content_column='content', cleaned_column='cleaned_content'):\n",
    "    \"\"\"\n",
    "    Cleans text data in a DataFrame by applying several preprocessing steps:\n",
    "    - Drops rows with missing values in the content column.\n",
    "    - Converts text to lowercase.\n",
    "    - Removes special characters, numbers, and punctuation.\n",
    "    - Tokenizes text and removes stop words.\n",
    "    - Removes extra whitespaces.\n",
    "\n",
    "    Parameters:\n",
    "        df (pd.DataFrame): Input DataFrame containing text data.\n",
    "        content_column (str): Name of the column containing the original text.\n",
    "        cleaned_column (str): Name of the new column for cleaned text.\n",
    "\n",
    "    Returns:\n",
    "        pd.DataFrame: A DataFrame with an additional column for cleaned text.\n",
    "    \"\"\"\n",
    "    # Ensure stopwords are downloaded\n",
    "    stop_words = set(stopwords.words('spanish'))\n",
    "\n",
    "    # Drop rows with missing content\n",
    "    df = df.dropna(subset=[content_column]).copy()\n",
    "\n",
    "    # Convert the content to lowercase\n",
    "    df.loc[:, cleaned_column] = df[content_column].str.lower()\n",
    "\n",
    "    # Remove special characters, numbers, and punctuation\n",
    "    df.loc[:, cleaned_column] = df[cleaned_column].apply(\n",
    "        lambda x: re.sub(r'[^a-zA-Z\\sáéíóúüñÁÉÍÓÚÜÑ]', '', x)\n",
    "    )\n",
    "\n",
    "    # Tokenize the text and remove stop words\n",
    "    df.loc[:, cleaned_column] = df[cleaned_column].apply(\n",
    "        lambda x: ' '.join([word for word in word_tokenize(x) if word not in stop_words])\n",
    "    )\n",
    "\n",
    "    # Remove extra whitespaces\n",
    "    df.loc[:, cleaned_column] = df[cleaned_column].apply(lambda x: ' '.join(x.split()))\n",
    "\n",
    "    return df\n"
   ]
  },
  {
   "cell_type": "code",
   "execution_count": 25,
   "metadata": {},
   "outputs": [
    {
     "data": {
      "text/html": [
       "<div>\n",
       "<style scoped>\n",
       "    .dataframe tbody tr th:only-of-type {\n",
       "        vertical-align: middle;\n",
       "    }\n",
       "\n",
       "    .dataframe tbody tr th {\n",
       "        vertical-align: top;\n",
       "    }\n",
       "\n",
       "    .dataframe thead th {\n",
       "        text-align: right;\n",
       "    }\n",
       "</style>\n",
       "<table border=\"1\" class=\"dataframe\">\n",
       "  <thead>\n",
       "    <tr style=\"text-align: right;\">\n",
       "      <th></th>\n",
       "      <th>date</th>\n",
       "      <th>title</th>\n",
       "      <th>url</th>\n",
       "      <th>content</th>\n",
       "      <th>media</th>\n",
       "      <th>cleaned_content</th>\n",
       "    </tr>\n",
       "  </thead>\n",
       "  <tbody>\n",
       "    <tr>\n",
       "      <th>0</th>\n",
       "      <td>2014-02-12</td>\n",
       "      <td>\"El dinero que mueve el narcotráfico está man...</td>\n",
       "      <td>https://www.ellitoral.com/edicion-online/diner...</td>\n",
       "      <td>El Litoral, DyN, La Comisión Nacional de Justi...</td>\n",
       "      <td>litoral</td>\n",
       "      <td>litoral dyn comisión nacional justicia paz cnj...</td>\n",
       "    </tr>\n",
       "    <tr>\n",
       "      <th>1</th>\n",
       "      <td>2009-12-05</td>\n",
       "      <td>\"Ahora se incauta más droga porque hay más tar...</td>\n",
       "      <td>https://www.ellitoral.com/edicion-online/ahora...</td>\n",
       "      <td>Emerio Agretti - política@ellitoral   La image...</td>\n",
       "      <td>litoral</td>\n",
       "      <td>emerio agretti políticaellitoral imagen camion...</td>\n",
       "    </tr>\n",
       "    <tr>\n",
       "      <th>2</th>\n",
       "      <td>2009-12-19</td>\n",
       "      <td>\"El enemigo es el narcotráfico, no el Frente P...</td>\n",
       "      <td>https://www.ellitoral.com/politica/enemigo-nar...</td>\n",
       "      <td>En la tarde de este lunes, referentes del PS, ...</td>\n",
       "      <td>litoral</td>\n",
       "      <td>tarde lunes referentes ps ucr pares si partido...</td>\n",
       "    </tr>\n",
       "    <tr>\n",
       "      <th>3</th>\n",
       "      <td>2012-07-18</td>\n",
       "      <td>\"El narcotráfico es cuestión de Estado, no deb...</td>\n",
       "      <td>https://www.ellitoral.com/politica/narcotrafic...</td>\n",
       "      <td>Mario Cáffaro | email protected, Los ministros...</td>\n",
       "      <td>litoral</td>\n",
       "      <td>mario cáffaro email protected ministros justic...</td>\n",
       "    </tr>\n",
       "    <tr>\n",
       "      <th>4</th>\n",
       "      <td>2013-05-01</td>\n",
       "      <td>\"Este gobierno es y será un enemigo declarado ...</td>\n",
       "      <td>https://www.ellitoral.com/politica/gobierno-en...</td>\n",
       "      <td>El gobernador Antonio Bonfatti afirmó que \"la ...</td>\n",
       "      <td>litoral</td>\n",
       "      <td>gobernador antonio bonfatti afirmó seguridad d...</td>\n",
       "    </tr>\n",
       "  </tbody>\n",
       "</table>\n",
       "</div>"
      ],
      "text/plain": [
       "        date                                              title  \\\n",
       "0 2014-02-12   \"El dinero que mueve el narcotráfico está man...   \n",
       "1 2009-12-05  \"Ahora se incauta más droga porque hay más tar...   \n",
       "2 2009-12-19  \"El enemigo es el narcotráfico, no el Frente P...   \n",
       "3 2012-07-18  \"El narcotráfico es cuestión de Estado, no deb...   \n",
       "4 2013-05-01  \"Este gobierno es y será un enemigo declarado ...   \n",
       "\n",
       "                                                 url  \\\n",
       "0  https://www.ellitoral.com/edicion-online/diner...   \n",
       "1  https://www.ellitoral.com/edicion-online/ahora...   \n",
       "2  https://www.ellitoral.com/politica/enemigo-nar...   \n",
       "3  https://www.ellitoral.com/politica/narcotrafic...   \n",
       "4  https://www.ellitoral.com/politica/gobierno-en...   \n",
       "\n",
       "                                             content    media  \\\n",
       "0  El Litoral, DyN, La Comisión Nacional de Justi...  litoral   \n",
       "1  Emerio Agretti - política@ellitoral   La image...  litoral   \n",
       "2  En la tarde de este lunes, referentes del PS, ...  litoral   \n",
       "3  Mario Cáffaro | email protected, Los ministros...  litoral   \n",
       "4  El gobernador Antonio Bonfatti afirmó que \"la ...  litoral   \n",
       "\n",
       "                                     cleaned_content  \n",
       "0  litoral dyn comisión nacional justicia paz cnj...  \n",
       "1  emerio agretti políticaellitoral imagen camion...  \n",
       "2  tarde lunes referentes ps ucr pares si partido...  \n",
       "3  mario cáffaro email protected ministros justic...  \n",
       "4  gobernador antonio bonfatti afirmó seguridad d...  "
      ]
     },
     "execution_count": 25,
     "metadata": {},
     "output_type": "execute_result"
    }
   ],
   "source": [
    "df = clean_text_data(df)\n",
    "df.head()"
   ]
  },
  {
   "cell_type": "markdown",
   "metadata": {},
   "source": [
    "Vectorizar con modelo preentrenado (ver posibilidad de hacerlo con otro específicamente entrenado en español)"
   ]
  },
  {
   "cell_type": "code",
   "execution_count": 37,
   "metadata": {},
   "outputs": [],
   "source": [
    "from sentence_transformers import SentenceTransformer\n",
    "\n",
    "# Load embedding model\n",
    "model = SentenceTransformer('sentence-transformers/all-MiniLM-L6-v2')\n",
    "\n",
    "# Generate embeddings\n",
    "df['embedding'] = df['cleaned_content'].apply(lambda x: model.encode(x))\n",
    "\n",
    "df['date'] = pd.to_datetime(df['date']).dt.strftime('%Y-%m-%d')  # Convert to string format"
   ]
  },
  {
   "cell_type": "code",
   "execution_count": 79,
   "metadata": {},
   "outputs": [],
   "source": [
    "df.to_parquet(\"data/embeddings.pkl\")"
   ]
  }
 ],
 "metadata": {
  "kernelspec": {
   "display_name": "Python 3",
   "language": "python",
   "name": "python3"
  },
  "language_info": {
   "codemirror_mode": {
    "name": "ipython",
    "version": 3
   },
   "file_extension": ".py",
   "mimetype": "text/x-python",
   "name": "python",
   "nbconvert_exporter": "python",
   "pygments_lexer": "ipython3",
   "version": "3.11.5"
  }
 },
 "nbformat": 4,
 "nbformat_minor": 2
}
