{
 "cells": [
  {
   "cell_type": "code",
   "execution_count": 5,
   "metadata": {},
   "outputs": [],
   "source": [
    "import pandas as pd\n",
    "from bs4 import BeautifulSoup\n",
    "import requests\n",
    "import re"
   ]
  },
  {
   "cell_type": "code",
   "execution_count": 21,
   "metadata": {},
   "outputs": [
    {
     "data": {
      "text/html": [
       "<div>\n",
       "<style scoped>\n",
       "    .dataframe tbody tr th:only-of-type {\n",
       "        vertical-align: middle;\n",
       "    }\n",
       "\n",
       "    .dataframe tbody tr th {\n",
       "        vertical-align: top;\n",
       "    }\n",
       "\n",
       "    .dataframe thead th {\n",
       "        text-align: right;\n",
       "    }\n",
       "</style>\n",
       "<table border=\"1\" class=\"dataframe\">\n",
       "  <thead>\n",
       "    <tr style=\"text-align: right;\">\n",
       "      <th></th>\n",
       "      <th>title</th>\n",
       "      <th>date</th>\n",
       "      <th>link</th>\n",
       "      <th>media</th>\n",
       "    </tr>\n",
       "  </thead>\n",
       "  <tbody>\n",
       "    <tr>\n",
       "      <th>0</th>\n",
       "      <td>Cuenca habla de un programa integral para la s...</td>\n",
       "      <td>2007-11-03 00:00:00</td>\n",
       "      <td>https://www.ellitoral.com/edicion-online/cuenc...</td>\n",
       "      <td>ellitoral</td>\n",
       "    </tr>\n",
       "    <tr>\n",
       "      <th>1</th>\n",
       "      <td>No prevén cambios inmediatos en las jefaturas ...</td>\n",
       "      <td>2007-12-02 00:00:00</td>\n",
       "      <td>https://www.ellitoral.com/edicion-online/preve...</td>\n",
       "      <td>ellitoral</td>\n",
       "    </tr>\n",
       "    <tr>\n",
       "      <th>2</th>\n",
       "      <td>En un accidente murió el jefe de Drogas Peligr...</td>\n",
       "      <td>2007-12-30 00:00:00</td>\n",
       "      <td>https://www.ellitoral.com/edicion-online/accid...</td>\n",
       "      <td>ellitoral</td>\n",
       "    </tr>\n",
       "    <tr>\n",
       "      <th>3</th>\n",
       "      <td>Encontraron otros diez kilos de marihuana en P...</td>\n",
       "      <td>2008-09-24 00:00:00</td>\n",
       "      <td>https://www.ellitoral.com/edicion-online/encon...</td>\n",
       "      <td>ellitoral</td>\n",
       "    </tr>\n",
       "    <tr>\n",
       "      <th>4</th>\n",
       "      <td>Con la orden de “caiga quien caiga”</td>\n",
       "      <td>2009-01-01 00:00:00</td>\n",
       "      <td>https://www.ellitoral.com/index.php/diarios/20...</td>\n",
       "      <td>ellitoral</td>\n",
       "    </tr>\n",
       "  </tbody>\n",
       "</table>\n",
       "</div>"
      ],
      "text/plain": [
       "                                               title                 date  \\\n",
       "0  Cuenca habla de un programa integral para la s...  2007-11-03 00:00:00   \n",
       "1  No prevén cambios inmediatos en las jefaturas ...  2007-12-02 00:00:00   \n",
       "2  En un accidente murió el jefe de Drogas Peligr...  2007-12-30 00:00:00   \n",
       "3  Encontraron otros diez kilos de marihuana en P...  2008-09-24 00:00:00   \n",
       "4                Con la orden de “caiga quien caiga”  2009-01-01 00:00:00   \n",
       "\n",
       "                                                link      media  \n",
       "0  https://www.ellitoral.com/edicion-online/cuenc...  ellitoral  \n",
       "1  https://www.ellitoral.com/edicion-online/preve...  ellitoral  \n",
       "2  https://www.ellitoral.com/edicion-online/accid...  ellitoral  \n",
       "3  https://www.ellitoral.com/edicion-online/encon...  ellitoral  \n",
       "4  https://www.ellitoral.com/index.php/diarios/20...  ellitoral  "
      ]
     },
     "execution_count": 21,
     "metadata": {},
     "output_type": "execute_result"
    }
   ],
   "source": [
    "df = pd.read_excel(\"data/santafe_2008-2011.xlsx\")\n",
    "df.head()"
   ]
  },
  {
   "cell_type": "code",
   "execution_count": 30,
   "metadata": {},
   "outputs": [
    {
     "name": "stderr",
     "output_type": "stream",
     "text": [
      "c:\\Users\\patricio\\.pyenv-win-venv\\envs\\rag_research\\lib\\site-packages\\bs4\\__init__.py:228: UserWarning: You provided Unicode markup but also provided a value for from_encoding. Your from_encoding will be ignored.\n",
      "  warnings.warn(\"You provided Unicode markup but also provided a value for from_encoding. Your from_encoding will be ignored.\")\n"
     ]
    }
   ],
   "source": [
    "\n",
    "def content_extract(url):\n",
    "    try:\n",
    "        response = requests.get(url)\n",
    "        response.raise_for_status()  # Raise an HTTPError for bad responses\n",
    "        \n",
    "\n",
    "        \n",
    "        soup = BeautifulSoup(response.text, 'html.parser', from_encoding=\"utf-8\")\n",
    "        content = soup.findAll('p')\n",
    "        content_list = [p.get_text(strip=True) for p in content]\n",
    "        \n",
    "        # Apply rules based on text in the URL\n",
    "        if 'lacapital.com' in url:\n",
    "            content_list = content_list[1:-1]  # Discard the first and last\n",
    "        elif 'pagina12.com' in url:\n",
    "            content_list = content_list[3:-2]  # Discard the first 3 and last 2\n",
    "        elif 'elciudadanoweb.com' in url:\n",
    "            content_list = content_list[:-2]  # Discard the last 2\n",
    "        \n",
    "        # Return the processed list or a default message\n",
    "        return content_list if content_list else [\"No content found\"]\n",
    "    except requests.exceptions.RequestException as e:\n",
    "        return [f\"Request error: {e}\"]\n",
    "    except Exception as e:\n",
    "        return [f\"Error: {e}\"]\n",
    "\n",
    "# Apply the function to the 'links' column and create a new column 'content'\n",
    "df['content'] = df['link'].apply(content_extract)\n"
   ]
  },
  {
   "cell_type": "code",
   "execution_count": null,
   "metadata": {},
   "outputs": [],
   "source": [
    "df"
   ]
  },
  {
   "cell_type": "code",
   "execution_count": 29,
   "metadata": {},
   "outputs": [
    {
     "name": "stdout",
     "output_type": "stream",
     "text": [
      "utf-8\n"
     ]
    },
    {
     "data": {
      "text/plain": [
       "'        # Handle encoding explicitly\\n        if response.encoding is None:\\n            response.encoding = response.apparent_encoding  # Detect encoding if not provided'"
      ]
     },
     "execution_count": 29,
     "metadata": {},
     "output_type": "execute_result"
    }
   ],
   "source": [
    "ex = \"https://www.ellitoral.com/politica/santa-fe-pedira-coordinar-acciones-inseguridad-nacion_0_WIbQaUQCQI.html\"\n",
    "\n",
    "response = requests.get(ex)\n",
    "print(response.encoding)\n",
    "        \n",
    "\"\"\"        # Handle encoding explicitly\n",
    "        if response.encoding is None:\n",
    "            response.encoding = response.apparent_encoding  # Detect encoding if not provided\"\"\""
   ]
  },
  {
   "cell_type": "code",
   "execution_count": 33,
   "metadata": {},
   "outputs": [],
   "source": [
    "import unicodedata\n",
    "\n",
    "# Recode text function\n",
    "def recode_text(text_list):\n",
    "    def fix_encoding(text):\n",
    "        try:\n",
    "            return unicodedata.normalize(\"NFKC\", text.encode(\"latin1\").decode(\"utf-8\"))\n",
    "        except (UnicodeEncodeError, UnicodeDecodeError):\n",
    "            return text  # Return original text if encoding fails\n",
    "    \n",
    "    cleaned_text = [\n",
    "        fix_encoding(item).strip() \n",
    "        for item in text_list \n",
    "        if item.strip()  # Remove empty strings\n",
    "    ]\n",
    "    return cleaned_text\n",
    "\n",
    "# Apply function to rows with \"rosario12\" in \"media\"\n",
    "def clean_content_column(df):\n",
    "    df.loc[df['media'] == 'rosario12', 'content'] = df.loc[df['media'] == 'rosario12', 'content'].apply(recode_text)\n",
    "    return df\n",
    "\n",
    "\n",
    "# Clean DataFrame\n",
    "df_cleaned = clean_content_column(df)\n"
   ]
  },
  {
   "cell_type": "code",
   "execution_count": 37,
   "metadata": {},
   "outputs": [],
   "source": [
    "def replace_newline_and_slash_in_list(text_list):\n",
    "    \"\"\"\n",
    "    Reemplaza '\\n' y '/' por un espacio en cada string de una lista.\n",
    "\n",
    "    Args:\n",
    "        text_list (list): Lista de strings en la que se reemplazarán los caracteres.\n",
    "\n",
    "    Returns:\n",
    "        list: Lista con los caracteres reemplazados en cada string.\n",
    "    \"\"\"\n",
    "    if isinstance(text_list, list):  # Verifica que sea una lista\n",
    "        return [text.replace(\"\\n\", \" \").replace(\"/\", \" \") for text in text_list]\n",
    "    return text_list  # Devuelve sin cambios si no es una lista\n",
    "\n",
    "\n",
    "df_cleaned[\"content\"] = df_cleaned[\"content\"].apply(replace_newline_and_slash_in_list)"
   ]
  },
  {
   "cell_type": "code",
   "execution_count": 38,
   "metadata": {},
   "outputs": [],
   "source": [
    "df_cleaned.to_excel(\"data/scrapped_content.xlsx\")"
   ]
  },
  {
   "cell_type": "code",
   "execution_count": null,
   "metadata": {},
   "outputs": [],
   "source": []
  }
 ],
 "metadata": {
  "kernelspec": {
   "display_name": "rag_research",
   "language": "python",
   "name": "python3"
  },
  "language_info": {
   "codemirror_mode": {
    "name": "ipython",
    "version": 3
   },
   "file_extension": ".py",
   "mimetype": "text/x-python",
   "name": "python",
   "nbconvert_exporter": "python",
   "pygments_lexer": "ipython3",
   "version": "3.10.10"
  }
 },
 "nbformat": 4,
 "nbformat_minor": 2
}
